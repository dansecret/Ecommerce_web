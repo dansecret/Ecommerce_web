{
  "cells": [
    {
      "cell_type": "markdown",
      "metadata": {
        "id": "view-in-github",
        "colab_type": "text"
      },
      "source": [
        "<a href=\"https://colab.research.google.com/github/dansecret/Ecommerce_web/blob/master/C2M2L1_Reading_And_Writing_Files.ipynb\" target=\"_parent\"><img src=\"https://colab.research.google.com/assets/colab-badge.svg\" alt=\"Open In Colab\"/></a>"
      ]
    },
    {
      "cell_type": "markdown",
      "metadata": {
        "id": "IwNvlcuQYtnX"
      },
      "source": [
        "# Practice Notebook: Reading and Writing Files"
      ]
    },
    {
      "cell_type": "markdown",
      "metadata": {
        "id": "BTtseo_YYtnb"
      },
      "source": [
        "In this exercise, we will test your knowledge of reading and writing files by playing around with some text files. \n",
        "<br><br>\n",
        "Let's say we have a text file containing current visitors at a hotel.  We'll call it, *guests.txt*.  Run the following code to create the file.  The file will automatically populate with each initial guest's first name on its own line."
      ]
    },
    {
      "cell_type": "code",
      "execution_count": null,
      "metadata": {
        "id": "D1TbzVKDYtnc"
      },
      "outputs": [],
      "source": [
        "guests = open(\"guests.txt\", \"w\")\n",
        "initial_guests = [\"dandi\", \"Andrea\", \"Manuel\", \"Polly\", \"Khalid\"]\n",
        "\n",
        "for i in initial_guests:\n",
        "    guests.write(i + \"\\n\")\n",
        "    \n",
        "guests.close()"
      ]
    },
    {
      "cell_type": "markdown",
      "metadata": {
        "id": "saJpTHNVYtne"
      },
      "source": [
        "No output is generated for the above code cell.  To check the contents of the newly created *guests.txt* file, run the following code."
      ]
    },
    {
      "cell_type": "code",
      "execution_count": null,
      "metadata": {
        "id": "5w7BzdKmYtnf",
        "outputId": "58c47bf6-3380-40ba-db5f-3f06eef8ab3e",
        "colab": {
          "base_uri": "https://localhost:8080/"
        }
      },
      "outputs": [
        {
          "output_type": "stream",
          "name": "stdout",
          "text": [
            "dandi\n",
            "\n",
            "Andrea\n",
            "\n",
            "Manuel\n",
            "\n",
            "Polly\n",
            "\n",
            "Khalid\n",
            "\n"
          ]
        }
      ],
      "source": [
        "with open(\"guests.txt\") as guests:\n",
        "    for line in guests:\n",
        "        print(line)"
      ]
    },
    {
      "cell_type": "markdown",
      "metadata": {
        "id": "Dhm7XSFwYtng"
      },
      "source": [
        "The output shows that our *guests.txt* file is correctly populated with each initial guest's first name on its own line.  Cool!\n",
        "<br><br>\n",
        "Now suppose we want to update our file as guests check in and out.  Fill in the missing code in the following cell to add guests to the *guests.txt* file as they check in."
      ]
    },
    {
      "cell_type": "code",
      "execution_count": null,
      "metadata": {
        "id": "D03E6N4tYtnh"
      },
      "outputs": [],
      "source": [
        "new_guests = [\"Dandi\", \"Danielle\", \"Jacob\"]\n",
        "\n",
        "with open(\"guests.txt\", \"w\") as guests:\n",
        "    for i in new_guests:\n",
        "        guests.write(i + \"\\n\")\n",
        "\n",
        "guests.close()"
      ]
    },
    {
      "cell_type": "markdown",
      "metadata": {
        "id": "pnGGuTC7Ytnj"
      },
      "source": [
        "To check whether your code correctly added the new guests to the *guests.txt* file, run the following cell."
      ]
    },
    {
      "cell_type": "code",
      "execution_count": null,
      "metadata": {
        "id": "1S696TECYtnl",
        "outputId": "781b089a-7f5f-4c3d-e006-859cf9fa3925",
        "colab": {
          "base_uri": "https://localhost:8080/"
        }
      },
      "outputs": [
        {
          "output_type": "stream",
          "name": "stdout",
          "text": [
            "Dandi\n",
            "\n",
            "Danielle\n",
            "\n",
            "Jacob\n",
            "\n"
          ]
        }
      ],
      "source": [
        "with open(\"guests.txt\") as guests:\n",
        "    for line in guests:\n",
        "        print(line)"
      ]
    },
    {
      "cell_type": "markdown",
      "metadata": {
        "id": "9h-8uZb_Ytno"
      },
      "source": [
        "The current names in the *guests.txt* file should be:  Bob, Andrea, Manuel, Polly, Khalid, Sam, Danielle and Jacob.\n",
        "<br><br>\n",
        "Was the *guests.txt* file correctly appended with the new guests? If not, go back and edit your code making sure to fill in the gaps appropriately so that the new guests are correctly added to the *guests.txt* file.  Once the new guests are successfully added, you have filled in the missing code correctly.  Great!\n",
        "<br><br>\n",
        "Now let's remove the guests that have checked out already.  There are several ways to do this, however, the method we will choose for this exercise is outlined as follows:\n",
        "1. Open the file in \"read\" mode.\n",
        "2. Iterate over each line in the file and put each guest's name into a Python list.\n",
        "3. Open the file once again in \"write\" mode.\n",
        "4. Add each guest's name in the Python list to the file one by one.\n",
        "\n",
        "<br>\n",
        "Ready? Fill in the missing code in the following cell to remove the guests that have checked out already."
      ]
    },
    {
      "cell_type": "code",
      "execution_count": null,
      "metadata": {
        "id": "R1DCgwsyYtnp"
      },
      "outputs": [],
      "source": [
        "checked_out=[\"Andrea\", \"Manuel\", \"Khalid\"]\n",
        "temp_list=[]\n",
        "\n",
        "with open(\"guests.txt\", \"r\") as guests:\n",
        "    for g in guests:\n",
        "        temp_list.append(g.strip())\n",
        "\n",
        "with open(\"guests.txt\", \"w\") as guests:\n",
        "    for name in temp_list:\n",
        "        if name not in checked_out:\n",
        "            guests.write(name + \"\\n\")"
      ]
    },
    {
      "cell_type": "markdown",
      "metadata": {
        "id": "40vrzAlBYtnq"
      },
      "source": [
        "To check whether your code correctly removed the checked out guests from the *guests.txt* file, run the following cell."
      ]
    },
    {
      "cell_type": "code",
      "execution_count": null,
      "metadata": {
        "id": "vySuKx7hYtnq",
        "outputId": "8d901135-87a7-4288-ed84-98ac6aa4aa88",
        "colab": {
          "base_uri": "https://localhost:8080/"
        }
      },
      "outputs": [
        {
          "output_type": "stream",
          "name": "stdout",
          "text": [
            "Dandi\n",
            "\n",
            "Danielle\n",
            "\n",
            "Jacob\n",
            "\n"
          ]
        }
      ],
      "source": [
        "with open(\"guests.txt\") as guests:\n",
        "    for line in guests:\n",
        "        print(line)"
      ]
    },
    {
      "cell_type": "markdown",
      "metadata": {
        "id": "VRoqctMUYtnr"
      },
      "source": [
        "The current names in the *guests.txt* file should be:  Bob, Polly, Sam, Danielle and Jacob.\n",
        "<br><br>\n",
        "Were the names of the checked out guests correctly removed from the *guests.txt* file? If not, go back and edit your code making sure to fill in the gaps appropriately so that the checked out guests are correctly removed from the *guests.txt* file. Once the checked out guests are successfully removed, you have filled in the missing code correctly. Awesome!\n",
        "<br><br>\n",
        "Now let's check whether Bob and Andrea are still checked in.  How could we do this? We'll just read through each line in the file to see if their name is in there.  Run the following code to check whether Bob and Andrea are still checked in."
      ]
    },
    {
      "cell_type": "code",
      "execution_count": null,
      "metadata": {
        "id": "wQCJ2teFYtnr",
        "outputId": "79f5d4ad-a79d-4336-c60b-238b84c65892",
        "colab": {
          "base_uri": "https://localhost:8080/"
        }
      },
      "outputs": [
        {
          "output_type": "stream",
          "name": "stdout",
          "text": [
            "dandi is not checked in\n",
            "Andrea is not checked in\n"
          ]
        }
      ],
      "source": [
        "guests_to_check = ['dandi', 'Andrea']\n",
        "checked_in = []\n",
        "\n",
        "with open(\"guests.txt\",\"r\") as guests:\n",
        "    for g in guests:\n",
        "        checked_in.append(g.strip())\n",
        "    for check in guests_to_check:\n",
        "        if check in checked_in:\n",
        "            print(\"{} is checked in\".format(check))\n",
        "        else:\n",
        "            print(\"{} is not checked in\".format(check))"
      ]
    },
    {
      "cell_type": "markdown",
      "metadata": {
        "id": "riVU-dDBYtns"
      },
      "source": [
        "We can see that Bob is checked in while Andrea is not.  Nice work! You've learned the basics of reading and writing files in Python!"
      ]
    }
  ],
  "metadata": {
    "kernelspec": {
      "display_name": "Python 3",
      "language": "python",
      "name": "python3"
    },
    "language_info": {
      "codemirror_mode": {
        "name": "ipython",
        "version": 3
      },
      "file_extension": ".py",
      "mimetype": "text/x-python",
      "name": "python",
      "nbconvert_exporter": "python",
      "pygments_lexer": "ipython3",
      "version": "3.6.7"
    },
    "colab": {
      "provenance": [],
      "include_colab_link": true
    }
  },
  "nbformat": 4,
  "nbformat_minor": 0
}